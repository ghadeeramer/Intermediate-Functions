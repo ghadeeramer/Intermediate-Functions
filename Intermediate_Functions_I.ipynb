{
  "nbformat": 4,
  "nbformat_minor": 0,
  "metadata": {
    "colab": {
      "name": "Intermediate Functions I.ipynb",
      "provenance": []
    },
    "kernelspec": {
      "name": "python3",
      "display_name": "Python 3"
    },
    "language_info": {
      "name": "python"
    }
  },
  "cells": [
    {
      "cell_type": "code",
      "metadata": {
        "colab": {
          "base_uri": "https://localhost:8080/"
        },
        "id": "7_a-AoogW-uz",
        "outputId": "ed537866-2ddb-4f81-8175-ef6f2ea3e739"
      },
      "source": [
        "import random\n",
        "\n",
        "def randInt(min=\"\", max=\"\"):\n",
        "    num = random.random() * 100\n",
        "    return num\n",
        "print(int (randInt()))"
      ],
      "execution_count": 22,
      "outputs": [
        {
          "output_type": "stream",
          "name": "stdout",
          "text": [
            "31\n"
          ]
        }
      ]
    },
    {
      "cell_type": "code",
      "metadata": {
        "colab": {
          "base_uri": "https://localhost:8080/"
        },
        "id": "g6IqZEXllEAQ",
        "outputId": "20b7843e-adc9-4c91-f13c-4ea911419c56"
      },
      "source": [
        "import random\n",
        "\n",
        "def randInt(min=\"\", max=\"\"):\n",
        "    num = random.random() * 100\n",
        "    return num\n",
        "print(int(randInt(max=50)))"
      ],
      "execution_count": 25,
      "outputs": [
        {
          "output_type": "stream",
          "name": "stdout",
          "text": [
            "42\n"
          ]
        }
      ]
    },
    {
      "cell_type": "code",
      "metadata": {
        "colab": {
          "base_uri": "https://localhost:8080/"
        },
        "id": "5joDLdHMlD81",
        "outputId": "b2ce6b57-3243-4eff-bf99-c14391b46567"
      },
      "source": [
        "import random\n",
        "\n",
        "def randInt(min=\"\", max=\"\"):\n",
        "    num = random.random() * 100\n",
        "    return num\n",
        "print(int(randInt(min=50)))"
      ],
      "execution_count": 27,
      "outputs": [
        {
          "output_type": "stream",
          "name": "stdout",
          "text": [
            "0\n"
          ]
        }
      ]
    },
    {
      "cell_type": "code",
      "metadata": {
        "colab": {
          "base_uri": "https://localhost:8080/"
        },
        "id": "qUnHdyRilD6W",
        "outputId": "7a8badec-ee32-4752-8706-47a5a40f27bf"
      },
      "source": [
        "import random\n",
        "\n",
        "def randInt(min=\"\", max=\"\"):\n",
        "    num = random.random() * 100\n",
        "    return num\n",
        "print(int(randInt(min=50, max=500)))"
      ],
      "execution_count": 31,
      "outputs": [
        {
          "output_type": "stream",
          "name": "stdout",
          "text": [
            "12\n"
          ]
        }
      ]
    }
  ]
}