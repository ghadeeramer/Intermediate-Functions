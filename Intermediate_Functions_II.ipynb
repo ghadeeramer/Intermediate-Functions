{
  "nbformat": 4,
  "nbformat_minor": 0,
  "metadata": {
    "colab": {
      "name": "Intermediate Functions II.ipynb",
      "provenance": []
    },
    "kernelspec": {
      "name": "python3",
      "display_name": "Python 3"
    },
    "language_info": {
      "name": "python"
    }
  },
  "cells": [
    {
      "cell_type": "code",
      "metadata": {
        "colab": {
          "base_uri": "https://localhost:8080/"
        },
        "id": "ly3Ew3I1pVW2",
        "outputId": "ef5a6af8-99ae-427a-a73d-fcb68d354c30"
      },
      "source": [
        "\n",
        "x = [ [5,2,3], [10,8,9] ]\n",
        "students = [\n",
        "     {'first_name':  'Michael', 'last_name' : 'Jordan'},\n",
        "     {'first_name' : 'John', 'last_name' : 'Rosales'}\n",
        "]\n",
        "sports_directory = {\n",
        "    'basketball' : ['Kobe', 'Jordan', 'James', 'Curry'],\n",
        "    'soccer' : ['Messi', 'Ronaldo', 'Rooney']\n",
        "}\n",
        "z = [ {'x': 10, 'y': 20} ]\n",
        "\n",
        "x = [x[0] , [15,8,9]]\n",
        "print(x)"
      ],
      "execution_count": 1,
      "outputs": [
        {
          "output_type": "stream",
          "name": "stdout",
          "text": [
            "[[5, 2, 3], [15, 8, 9]]\n"
          ]
        }
      ]
    },
    {
      "cell_type": "code",
      "metadata": {
        "colab": {
          "base_uri": "https://localhost:8080/"
        },
        "id": "oGwbWF7-ywzp",
        "outputId": "cf5cb97c-fea2-4580-ff7b-e1508a5d51d4"
      },
      "source": [
        "x = [ [5,2,3], [10,8,9] ]\n",
        "students = [\n",
        "     {'first_name':  'Michael', 'last_name' : 'Jordan'},\n",
        "     {'first_name' : 'John', 'last_name' : 'Rosales'}\n",
        "]\n",
        "sports_directory = {\n",
        "    'basketball' : ['Kobe', 'Jordan', 'James', 'Curry'],\n",
        "    'soccer' : ['Messi', 'Ronaldo', 'Rooney']\n",
        "}\n",
        "z = [ {'x': 10, 'y': 20} ]\n",
        "\n",
        "students[0].pop('last_name')\n",
        "students[0] ['last_name'] = 'Bryant'\n",
        "\n",
        "print(students)\n"
      ],
      "execution_count": 2,
      "outputs": [
        {
          "output_type": "stream",
          "name": "stdout",
          "text": [
            "[{'first_name': 'Michael', 'last_name': 'Bryant'}, {'first_name': 'John', 'last_name': 'Rosales'}]\n"
          ]
        }
      ]
    },
    {
      "cell_type": "code",
      "metadata": {
        "colab": {
          "base_uri": "https://localhost:8080/"
        },
        "id": "x_1DS1qx4uiz",
        "outputId": "efb3ace0-2f4f-4b37-8080-f65e36f6dfe5"
      },
      "source": [
        "x = [ [5,2,3], [10,8,9] ]\n",
        "students = [\n",
        "     {'first_name':  'Michael', 'last_name' : 'Jordan'},\n",
        "     {'first_name' : 'John', 'last_name' : 'Rosales'}\n",
        "]\n",
        "sports_directory = {\n",
        "    'basketball' : ['Kobe', 'Jordan', 'James', 'Curry'],\n",
        "    'soccer' : ['Messi', 'Ronaldo', 'Rooney']\n",
        "}\n",
        "z = [ {'x': 10, 'y': 20} ]\n",
        "\n",
        "sports_directory['soccer'] [0] = 'Andres'\n",
        "print(sports_directory)"
      ],
      "execution_count": 3,
      "outputs": [
        {
          "output_type": "stream",
          "name": "stdout",
          "text": [
            "{'basketball': ['Kobe', 'Jordan', 'James', 'Curry'], 'soccer': ['Andres', 'Ronaldo', 'Rooney']}\n"
          ]
        }
      ]
    },
    {
      "cell_type": "code",
      "metadata": {
        "colab": {
          "base_uri": "https://localhost:8080/"
        },
        "id": "aqPlhOvOFNO7",
        "outputId": "57063277-2680-4afb-82e6-18c0c1e62a2f"
      },
      "source": [
        "students = [\n",
        "         {'first_name':  'Michael', 'last_name' : 'Jordan'},\n",
        "         {'first_name' : 'John', 'last_name' : 'Rosales'},\n",
        "         {'first_name' : 'Mark', 'last_name' : 'Guillen'},\n",
        "         {'first_name' : 'KB', 'last_name' : 'Tonel'}\n",
        "    ]\n",
        "\n",
        "\n",
        "\n",
        "def iterateDictionary(students):\n",
        "    for dic in students:\n",
        "        for val, cal in dic.items():\n",
        "            print(f'{val} - {cal}')\n",
        "\n",
        "iterateDictionary(students)"
      ],
      "execution_count": 7,
      "outputs": [
        {
          "output_type": "stream",
          "name": "stdout",
          "text": [
            "first_name - Michael\n",
            "last_name - Jordan\n",
            "first_name - John\n",
            "last_name - Rosales\n",
            "first_name - Mark\n",
            "last_name - Guillen\n",
            "first_name - KB\n",
            "last_name - Tonel\n"
          ]
        }
      ]
    },
    {
      "cell_type": "code",
      "metadata": {
        "colab": {
          "base_uri": "https://localhost:8080/"
        },
        "id": "EiFPopm2Q8Jz",
        "outputId": "77cc6351-36a1-4c2b-e04c-184f3d721882"
      },
      "source": [
        "students = [\n",
        "         {'first_name':  'Michael', 'last_name' : 'Jordan'},\n",
        "         {'first_name' : 'John', 'last_name' : 'Rosales'},\n",
        "         {'first_name' : 'Mark', 'last_name' : 'Guillen'},\n",
        "         {'first_name' : 'KB', 'last_name' : 'Tonel'}\n",
        "    ]\n",
        "\n",
        "\n",
        "\n",
        "def iterateDictionary(students):\n",
        "    for dic in students:\n",
        "        print(dic['first_name'])\n",
        "\n",
        "iterateDictionary(students)"
      ],
      "execution_count": 8,
      "outputs": [
        {
          "output_type": "stream",
          "name": "stdout",
          "text": [
            "Michael\n",
            "John\n",
            "Mark\n",
            "KB\n"
          ]
        }
      ]
    },
    {
      "cell_type": "code",
      "metadata": {
        "colab": {
          "base_uri": "https://localhost:8080/"
        },
        "id": "anGvyUGcREK3",
        "outputId": "5464c14b-5326-4bb2-8da4-7dea895b6d62"
      },
      "source": [
        "students = [\n",
        "         {'first_name':  'Michael', 'last_name' : 'Jordan'},\n",
        "         {'first_name' : 'John', 'last_name' : 'Rosales'},\n",
        "         {'first_name' : 'Mark', 'last_name' : 'Guillen'},\n",
        "         {'first_name' : 'KB', 'last_name' : 'Tonel'}\n",
        "    ]\n",
        "\n",
        "\n",
        "\n",
        "def iterateDictionary(students):\n",
        "    for dic in students:\n",
        "        print(dic['last_name'])\n",
        "\n",
        "iterateDictionary(students)"
      ],
      "execution_count": 9,
      "outputs": [
        {
          "output_type": "stream",
          "name": "stdout",
          "text": [
            "Jordan\n",
            "Rosales\n",
            "Guillen\n",
            "Tonel\n"
          ]
        }
      ]
    }
  ]
}